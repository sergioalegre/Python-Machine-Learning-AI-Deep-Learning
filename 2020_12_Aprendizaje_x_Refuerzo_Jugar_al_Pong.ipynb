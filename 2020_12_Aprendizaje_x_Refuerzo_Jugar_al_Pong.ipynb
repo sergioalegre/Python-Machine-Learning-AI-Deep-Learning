{
  "nbformat": 4,
  "nbformat_minor": 0,
  "metadata": {
    "colab": {
      "name": "2020 12 Aprendizaje x Refuerzo al Pong.ipynb",
      "provenance": [],
      "authorship_tag": "ABX9TyMwzTurnuRruZQzdl21Md6z",
      "include_colab_link": true
    },
    "kernelspec": {
      "name": "python3",
      "display_name": "Python 3"
    }
  },
  "cells": [
    {
      "cell_type": "markdown",
      "metadata": {
        "id": "view-in-github",
        "colab_type": "text"
      },
      "source": [
        "<a href=\"https://colab.research.google.com/github/sergioalegre/Python-for-AI-and-machine-learning/blob/master/2020_12_Aprendizaje_x_Refuerzo_Jugar_al_Pong.ipynb\" target=\"_parent\"><img src=\"https://colab.research.google.com/assets/colab-badge.svg\" alt=\"Open In Colab\"/></a>"
      ]
    },
    {
      "cell_type": "code",
      "metadata": {
        "id": "AKVpZAnu9rdj"
      },
      "source": [
        "#Basado https://www.aprendemachinelearning.com/aprendizaje-por-refuerzo/#more-5911"
      ],
      "execution_count": null,
      "outputs": []
    },
    {
      "cell_type": "code",
      "metadata": {
        "id": "4WYESawu9xiB"
      },
      "source": [
        "\"\"\"\r\n",
        "Simularemos el ambiente del juego y su compotamiento en la Jupyter Notebook.\r\n",
        "\r\n",
        "El agente será el “player 1” y sus acciones posible son 2:\r\n",
        "-mover hacia arriba\r\n",
        "-mover hacia abajo\r\n",
        "\r\n",
        "Las reglas del juego:\r\n",
        "-El agente tiene 3 vidas.\r\n",
        "-Si pierde… castigo, restamos 10 puntos.\r\n",
        "-Cada vez que le demos a la bola, recompensa, sumamos 10.\r\n",
        "-Para que no quede jugando por siempre, limitaremos el juego a 3000 iteraciones máximo ó alcanzar 1000 puntos y habremos ganado\r\n",
        "\"\"\""
      ],
      "execution_count": null,
      "outputs": []
    },
    {
      "cell_type": "code",
      "metadata": {
        "id": "vmWRzkR7_Qfd"
      },
      "source": [
        "import numpy as np\r\n",
        "import matplotlib.pyplot as plt\r\n",
        "from random import randint\r\n",
        "from time import sleep\r\n",
        "from IPython.display import clear_output\r\n",
        "from math import ceil,floor\r\n",
        " \r\n",
        "%matplotlib inline"
      ],
      "execution_count": 4,
      "outputs": []
    },
    {
      "cell_type": "code",
      "metadata": {
        "id": "JJPweDYv_VHi"
      },
      "source": [
        "\"\"\"\r\n",
        "Dentro de la clase Agente encontraremos la tabla donde iremos almacenando las políticas. En nuestro caso la tabla cuenta de 3 coordenadas:\r\n",
        "\r\n",
        "La posición actual del jugador.\r\n",
        "La posición “y” de la pelota.\r\n",
        "La posición en el eje “x” de la pelota.\r\n",
        "Además en esta clase, definiremos el factor de descuento, el learning rate y el ratio de exploración.\r\n",
        "\r\n",
        "Los métodos más importantes:\r\n",
        "\r\n",
        "get_next_step() decide la siguiente acción a tomar en base al ratio de exploración si tomar “el mejor paso” que tuviéramos almacenado ó tomar un paso al azar, dando posibilidad a explorar el ambiente\r\n",
        "update() aquí se actualizan las políticas mediante la ecuación de Bellman que vimos anteriormente. Es su implementación en python.\r\n",
        "\"\"\"\r\n",
        "class PongAgent:\r\n",
        "    \r\n",
        "    def __init__(self, game, policy=None, discount_factor = 0.1, learning_rate = 0.1, ratio_explotacion = 0.9):\r\n",
        "\r\n",
        "        # Creamos la tabla de politicas\r\n",
        "        if policy is not None:\r\n",
        "            self._q_table = policy\r\n",
        "        else:\r\n",
        "            position = list(game.positions_space.shape)\r\n",
        "            position.append(len(game.action_space))\r\n",
        "            self._q_table = np.zeros(position)\r\n",
        "        \r\n",
        "        self.discount_factor = discount_factor\r\n",
        "        self.learning_rate = learning_rate\r\n",
        "        self.ratio_explotacion = ratio_explotacion\r\n",
        "\r\n",
        "    def get_next_step(self, state, game):\r\n",
        "        \r\n",
        "        # Damos un paso aleatorio...\r\n",
        "        next_step = np.random.choice(list(game.action_space))\r\n",
        "        \r\n",
        "        # o tomaremos el mejor paso...\r\n",
        "        if np.random.uniform() <= self.ratio_explotacion:\r\n",
        "            # tomar el maximo\r\n",
        "            idx_action = np.random.choice(np.flatnonzero(\r\n",
        "                    self._q_table[state[0],state[1],state[2]] == self._q_table[state[0],state[1],state[2]].max()\r\n",
        "                ))\r\n",
        "            next_step = list(game.action_space)[idx_action]\r\n",
        "\r\n",
        "        return next_step\r\n",
        "\r\n",
        "    # actualizamos las politicas con las recompensas obtenidas\r\n",
        "    def update(self, game, old_state, action_taken, reward_action_taken, new_state, reached_end):\r\n",
        "        idx_action_taken =list(game.action_space).index(action_taken)\r\n",
        "\r\n",
        "        actual_q_value_options = self._q_table[old_state[0], old_state[1], old_state[2]]\r\n",
        "        actual_q_value = actual_q_value_options[idx_action_taken]\r\n",
        "\r\n",
        "        future_q_value_options = self._q_table[new_state[0], new_state[1], new_state[2]]\r\n",
        "        future_max_q_value = reward_action_taken  +  self.discount_factor*future_q_value_options.max()\r\n",
        "        if reached_end:\r\n",
        "            future_max_q_value = reward_action_taken #maximum reward\r\n",
        "\r\n",
        "        self._q_table[old_state[0], old_state[1], old_state[2], idx_action_taken] = actual_q_value + \\\r\n",
        "                                              self.learning_rate*(future_max_q_value -actual_q_value)\r\n",
        "    \r\n",
        "    def print_policy(self):\r\n",
        "        for row in np.round(self._q_table,1):\r\n",
        "            for column in row:\r\n",
        "                print('[', end='')\r\n",
        "                for value in column:\r\n",
        "                    print(str(value).zfill(5), end=' ')\r\n",
        "                print('] ', end='')\r\n",
        "            print('')\r\n",
        "            \r\n",
        "    def get_policy(self):\r\n",
        "        return self._q_table"
      ],
      "execution_count": 22,
      "outputs": []
    },
    {
      "cell_type": "code",
      "metadata": {
        "id": "zh8kqyxvCcvH"
      },
      "source": [
        "\"\"\"La clase Environment\r\n",
        "Encontramos implementada la lógica y control del juego del pong. Se controla que la pelotita rebote, que no se salga de la pantalla y se encuentran los métodos para graficar y animar en matplotlib.\r\n",
        "Por Defecto se define una pantalla de 40 pixeles x 50px de alto y si utilizamos la variable “movimiento_px = 5” nos quedará definida nuestra tabla de políticas en 8 de alto y 10 de ancho (por hacer 40/5=8 y 50/5=10). Estos valores se pueden modificar a gusto!\r\n",
        "Además, muy importante, tenemos el control de cuándo dar las recompensas y penalizaciones, al perder cada vida y detectar si el juego a terminado\"\"\"\r\n",
        "\r\n",
        "class PongEnvironment:\r\n",
        "    \r\n",
        "    def __init__(self, max_life=3, height_px = 40, width_px = 50, movimiento_px = 3):\r\n",
        "        \r\n",
        "        self.action_space = ['Arriba','Abajo']\r\n",
        "        \r\n",
        "        self._step_penalization = 0\r\n",
        "        \r\n",
        "        self.state = [0,0,0]\r\n",
        "        \r\n",
        "        self.total_reward = 0\r\n",
        "        \r\n",
        "        self.dx = movimiento_px\r\n",
        "        self.dy = movimiento_px\r\n",
        "        \r\n",
        "        filas = ceil(height_px/movimiento_px)\r\n",
        "        columnas = ceil(width_px/movimiento_px)\r\n",
        "        \r\n",
        "        self.positions_space = np.array([[[0 for z in range(columnas)] \r\n",
        "                                                  for y in range(filas)] \r\n",
        "                                                     for x in range(filas)])\r\n",
        "\r\n",
        "        self.lives = max_life\r\n",
        "        self.max_life=max_life\r\n",
        "        \r\n",
        "        self.x = randint(int(width_px/2), width_px) \r\n",
        "        self.y = randint(0, height_px-10)\r\n",
        "        \r\n",
        "        self.player_alto = int(height_px/4)\r\n",
        "\r\n",
        "        self.player1 = self.player_alto  # posic. inicial del player\r\n",
        "        \r\n",
        "        self.score = 0\r\n",
        "        \r\n",
        "        self.width_px = width_px\r\n",
        "        self.height_px = height_px\r\n",
        "        self.radio = 2.5\r\n",
        "\r\n",
        "    def reset(self):\r\n",
        "        self.total_reward = 0\r\n",
        "        self.state = [0,0,0]\r\n",
        "        self.lives = self.max_life\r\n",
        "        self.score = 0\r\n",
        "        self.x = randint(int(self.width_px/2), self.width_px) \r\n",
        "        self.y = randint(0, self.height_px-10)\r\n",
        "        return self.state\r\n",
        "\r\n",
        "    def step(self, action, animate=False):\r\n",
        "        self._apply_action(action, animate)\r\n",
        "        done = self.lives <=0 # final\r\n",
        "        reward = self.score\r\n",
        "        reward += self._step_penalization\r\n",
        "        self.total_reward += reward\r\n",
        "        return self.state, reward , done\r\n",
        "\r\n",
        "    def _apply_action(self, action, animate=False):\r\n",
        "        \r\n",
        "        if action == \"Arriba\":\r\n",
        "            self.player1 += abs(self.dy)\r\n",
        "        elif action == \"Abajo\":\r\n",
        "            self.player1 -= abs(self.dy)\r\n",
        "            \r\n",
        "        self.avanza_player()\r\n",
        "\r\n",
        "        self.avanza_frame()\r\n",
        "\r\n",
        "        if animate:\r\n",
        "            clear_output(wait=True);\r\n",
        "            fig = self.dibujar_frame()\r\n",
        "            plt.show()\r\n",
        "\r\n",
        "        self.state = (floor(self.player1/abs(self.dy))-2, floor(self.y/abs(self.dy))-2, floor(self.x/abs(self.dx))-2)\r\n",
        "    \r\n",
        "    def detectaColision(self, ball_y, player_y):\r\n",
        "        if (player_y+self.player_alto >= (ball_y-self.radio)) and (player_y <= (ball_y+self.radio)):\r\n",
        "            return True\r\n",
        "        else:\r\n",
        "            return False\r\n",
        "    \r\n",
        "    def avanza_player(self):\r\n",
        "        if self.player1 + self.player_alto >= self.height_px:\r\n",
        "            self.player1 = self.height_px - self.player_alto\r\n",
        "        elif self.player1 <= -abs(self.dy):\r\n",
        "            self.player1 = -abs(self.dy)\r\n",
        "\r\n",
        "    def avanza_frame(self):\r\n",
        "        self.x += self.dx\r\n",
        "        self.y += self.dy\r\n",
        "        if self.x <= 3 or self.x > self.width_px:\r\n",
        "            self.dx = -self.dx\r\n",
        "            if self.x <= 3:\r\n",
        "                ret = self.detectaColision(self.y, self.player1)\r\n",
        "\r\n",
        "                if ret:\r\n",
        "                    self.score = 10\r\n",
        "                else:\r\n",
        "                    self.score = -10\r\n",
        "                    self.lives -= 1\r\n",
        "                    if self.lives>0:\r\n",
        "                        self.x = randint(int(self.width_px/2), self.width_px)\r\n",
        "                        self.y = randint(0, self.height_px-10)\r\n",
        "                        self.dx = abs(self.dx)\r\n",
        "                        self.dy = abs(self.dy)\r\n",
        "        else:\r\n",
        "            self.score = 0\r\n",
        "\r\n",
        "        if self.y < 0 or self.y > self.height_px:\r\n",
        "            self.dy = -self.dy\r\n",
        "\r\n",
        "    def dibujar_frame(self):\r\n",
        "        fig = plt.figure(figsize=(5, 4))\r\n",
        "        a1 = plt.gca()\r\n",
        "        circle = plt.Circle((self.x, self.y), self.radio, fc='slategray', ec=\"black\")\r\n",
        "        a1.set_ylim(-5, self.height_px+5)\r\n",
        "        a1.set_xlim(-5, self.width_px+5)\r\n",
        "\r\n",
        "        rectangle = plt.Rectangle((-5, self.player1), 5, self.player_alto, fc='gold', ec=\"none\")\r\n",
        "        a1.add_patch(circle);\r\n",
        "        a1.add_patch(rectangle)\r\n",
        "        #a1.set_yticklabels([]);a1.set_xticklabels([]);\r\n",
        "        plt.text(4, self.height_px, \"SCORE:\"+str(self.total_reward)+\"  LIFE:\"+str(self.lives), fontsize=12)\r\n",
        "        if self.lives <=0:\r\n",
        "            plt.text(10, self.height_px-14, \"GAME OVER\", fontsize=16)\r\n",
        "        elif self.total_reward >= 1000:\r\n",
        "            plt.text(10, self.height_px-14, \"YOU WIN!\", fontsize=16)\r\n",
        "        return fig"
      ],
      "execution_count": 23,
      "outputs": []
    },
    {
      "cell_type": "code",
      "metadata": {
        "id": "EPBkaiHrDAXA"
      },
      "source": [
        "\"\"\"\r\n",
        "El juego: Simular miles de veces para enseñar\r\n",
        "Finalmente definimos una función para jugar, donde indicamos la cantidad de veces que queremos iterar la simulación del juego e iremos almacenando algunas estadísticas sobre el comportamiento del agente, si mejora el puntaje con las iteraciones y el máximo puntaje alcanzado.\r\n",
        "\"\"\"\r\n",
        "def play(rounds=5000, max_life=3, discount_factor = 0.1, learning_rate = 0.1,\r\n",
        "         ratio_explotacion=0.9,learner=None, game=None, animate=False):\r\n",
        "\r\n",
        "    if game is None:\r\n",
        "        # si usamos movimiento_px = 5 creamos una tabla de politicas de 8x10\r\n",
        "        # si usamos movimiento_px = 3 la tabla sera de 14x17\r\n",
        "        game = PongEnvironment(max_life=max_life, movimiento_px = 3)\r\n",
        "        \r\n",
        "    if learner is None:\r\n",
        "        print(\"Begin new Train!\")\r\n",
        "        learner = PongAgent(game, discount_factor = discount_factor,learning_rate = learning_rate, ratio_explotacion= ratio_explotacion)\r\n",
        "\r\n",
        "    max_points= -9999\r\n",
        "    first_max_reached = 0\r\n",
        "    total_rw=0\r\n",
        "    steps=[]\r\n",
        "\r\n",
        "    for played_games in range(0, rounds):\r\n",
        "        state = game.reset()\r\n",
        "        reward, done = None, None\r\n",
        "        \r\n",
        "        itera=0\r\n",
        "        while (done != True) and (itera < 3000 and game.total_reward<=1000):\r\n",
        "            old_state = np.array(state)\r\n",
        "            next_action = learner.get_next_step(state, game)\r\n",
        "            state, reward, done = game.step(next_action, animate=animate)\r\n",
        "            if rounds > 1:\r\n",
        "                learner.update(game, old_state, next_action, reward, state, done)\r\n",
        "            itera+=1\r\n",
        "        \r\n",
        "        steps.append(itera)\r\n",
        "        \r\n",
        "        total_rw+=game.total_reward\r\n",
        "        if game.total_reward > max_points:\r\n",
        "            max_points=game.total_reward\r\n",
        "            first_max_reached = played_games\r\n",
        "        \r\n",
        "        if played_games %500==0 and played_games >1 and not animate:\r\n",
        "            print(\"-- Partidas[\", played_games, \"] Avg.Puntos[\", int(total_rw/played_games),\"]  AVG Steps[\", int(np.array(steps).mean()), \"] Max Score[\", max_points,\"]\")\r\n",
        "                \r\n",
        "    if played_games>1:\r\n",
        "        print('Partidas[',played_games,'] Avg.Puntos[',int(total_rw/played_games),'] Max score[', max_points,'] en partida[',first_max_reached,']')\r\n",
        "        \r\n",
        "    #learner.print_policy()\r\n",
        "    \r\n",
        "    return learner, game"
      ],
      "execution_count": 25,
      "outputs": []
    },
    {
      "cell_type": "code",
      "metadata": {
        "colab": {
          "base_uri": "https://localhost:8080/",
          "height": 222
        },
        "id": "inWxABN5DS4R",
        "outputId": "bda9fbae-7516-4d98-e73a-93aaa38e20a7"
      },
      "source": [
        "\"\"\"\r\n",
        "Para entrenar ejecutamos la función con los siguientes parámetros:\r\n",
        "- 6000 partidas jugará\r\n",
        "- ratio de explotación: el 85% de las veces será avaro, pero el 15% elige acciones aleatorias, dando lugar a la exploración.\r\n",
        "- learning rate = se suele dejar en el 10 por ciento como un valor razonable, dando lugar a las recompensas y permitiendo actualizar la importancia de cada acción poco a poco.\r\n",
        "- Tras más iteraciones, mayor importancia tendrá esa acción.\r\n",
        "- discount_factor = También se suele empezar con valor de 0.1 pero aquí utilizamos un valor del 0.2 para intentar indicar al algoritmo que nos interesa las recompensas a más largo plazo.\r\n",
        "\"\"\"\r\n",
        "\r\n",
        "learner, game = play(rounds=5000, discount_factor = 0.2, learning_rate = 0.1, ratio_explotacion=0.85)\r\n",
        "\r\n",
        "\"\"\"Y vemos la salida del entreno, luego de unos 2 minutos:\"\"\""
      ],
      "execution_count": 26,
      "outputs": [
        {
          "output_type": "stream",
          "text": [
            "Begin new Train!\n",
            "-- Partidas[ 500 ] Avg.Puntos[ 14 ]  AVG Steps[ 217 ] Max Score[ 200 ]\n",
            "-- Partidas[ 1000 ] Avg.Puntos[ 22 ]  AVG Steps[ 245 ] Max Score[ 280 ]\n",
            "-- Partidas[ 1500 ] Avg.Puntos[ 25 ]  AVG Steps[ 256 ] Max Score[ 300 ]\n",
            "-- Partidas[ 2000 ] Avg.Puntos[ 26 ]  AVG Steps[ 260 ] Max Score[ 300 ]\n",
            "-- Partidas[ 2500 ] Avg.Puntos[ 27 ]  AVG Steps[ 264 ] Max Score[ 300 ]\n",
            "-- Partidas[ 3000 ] Avg.Puntos[ 30 ]  AVG Steps[ 273 ] Max Score[ 300 ]\n",
            "-- Partidas[ 3500 ] Avg.Puntos[ 32 ]  AVG Steps[ 279 ] Max Score[ 370 ]\n",
            "-- Partidas[ 4000 ] Avg.Puntos[ 34 ]  AVG Steps[ 286 ] Max Score[ 470 ]\n",
            "-- Partidas[ 4500 ] Avg.Puntos[ 35 ]  AVG Steps[ 289 ] Max Score[ 470 ]\n",
            "Partidas[ 4999 ] Avg.Puntos[ 36 ] Max score[ 470 ] en partida[ 3668 ]\n"
          ],
          "name": "stdout"
        },
        {
          "output_type": "execute_result",
          "data": {
            "application/vnd.google.colaboratory.intrinsic+json": {
              "type": "string"
            },
            "text/plain": [
              "'Y vemos la salida del entreno, luego de unos 2 minutos:'"
            ]
          },
          "metadata": {
            "tags": []
          },
          "execution_count": 26
        }
      ]
    },
    {
      "cell_type": "code",
      "metadata": {
        "colab": {
          "base_uri": "https://localhost:8080/",
          "height": 265
        },
        "id": "S6yHKGmmDk3f",
        "outputId": "09fcfe67-ed5a-4fa9-ba55-870960235a20"
      },
      "source": [
        "\"\"\"Veamos el resultado!\r\n",
        "Ya contamos con nuestro agente entrenado, ahora veamos qué tal se comporta en una partida de pong, y lo podemos ver jugar, pasando el parámetro animate=True.\r\n",
        "Antes de jugar, instanciamos un nuevo agente “learner2” que utilizará las políticas que creamos anteriormente.\r\n",
        "A este agente le seteamos el valor de explotación en 1, para evitar que tome pasos aleatorios.\"\"\"\r\n",
        "\r\n",
        "learner2 = PongAgent(game, policy=learner.get_policy())\r\n",
        "learner2.ratio_explotacion = 1.0  # con esto quitamos las elecciones aleatorias al jugar\r\n",
        "player = play(rounds=1, learner=learner2, game=game, animate=True)\r\n",
        "\r\n",
        "\"\"\"Y veremos nuestro juego de Pong en acción!\"\"\""
      ],
      "execution_count": null,
      "outputs": [
        {
          "output_type": "display_data",
          "data": {
            "image/png": "[encoded data removed]",
            "text/plain": [
              "<Figure size 360x288 with 1 Axes>"
            ]
          },
          "metadata": {
            "tags": [],
            "needs_background": "light"
          }
        }
      ]
    }
  ]
}