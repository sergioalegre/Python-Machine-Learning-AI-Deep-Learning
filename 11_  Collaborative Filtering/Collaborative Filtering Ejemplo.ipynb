{
 "cells": [
  {
   "cell_type": "code",
   "execution_count": 15,
   "metadata": {},
   "outputs": [
    {
     "name": "stdout",
     "output_type": "stream",
     "text": [
      "82.0\n"
     ]
    }
   ],
   "source": [
    "#Basado en: https://www.eduonix.com/dashboard/complete-guide-to-machine-learning-using-python\n",
    "import pandas as pd\n",
    "import numpy as np\n",
    "import rake_nltk as rake\n",
    "\n",
    "# conda install -c conda-forge rake_nltk\n",
    "# conda install -c conda-forge scikit-surprise\n",
    "\n",
    "r = rake.Rake()\n",
    "movies = pd.read_csv('movies_metadata.csv', low_memory=False)\n",
    "\n",
    "# print(movies[\"vote_average\"].value_counts())\n",
    "\n",
    "m_count = movies['vote_count'].quantile(0.85)\n",
    "\n",
    "movies = movies[movies['vote_count'] > m_count]\n",
    "movies = movies[movies['overview'].notnull()]\n"
   ]
  },
  {
   "cell_type": "code",
   "execution_count": 19,
   "metadata": {},
   "outputs": [],
   "source": [
    "import rake_nltk as rake\n",
    "import sys\n",
    "r = rake.Rake()\n",
    "\n",
    "movies[\"keywords\"] = \"\"\n",
    "\n",
    "for index, row in movies.iterrows():\n",
    "    review = row[\"overview\"]\n",
    "\n",
    "    r.extract_keywords_from_text(review)\n",
    "    \n",
    "    keyDegrees = r.get_word_degrees()\n",
    "    \n",
    "    keyDegrees = {k: kw for k, kw in keyDegrees.items() if kw > 1} # kw = keyword\n",
    "    movies.loc[index,\"keywords\"] = \" \".join(keyDegrees.keys())\n",
    "\n",
    "reviews = movies[[\"original_title\",\"keywords\"]]\n",
    "# titleInd = {i: movies.loc[i][\"original_title\"] for i in movies.index}\n",
    "\n",
    "reviews = reviews.set_index('original_title')"
   ]
  },
  {
   "cell_type": "code",
   "execution_count": 23,
   "metadata": {},
   "outputs": [
    {
     "name": "stdout",
     "output_type": "stream",
     "text": [
      "Toy Story 1.0\n",
      "Toy Story 2 0.2430083118646356\n",
      "The Last Airbender 0.12530953375573964\n",
      "Hawaiian Vacation 0.12356195033784233\n",
      "The War of the Roses 0.12312612014134833\n",
      "The Wild 0.12139800914765503\n",
      "Mean Machine 0.11314896159638423\n",
      "Halloweentown 0.11308456899610897\n",
      "Hunt for the Wilderpeople 0.10810572830469659\n",
      "Bring It On Again 0.10544730248314262\n",
      "Rebel Without a Cause 0.10484761180949846\n"
     ]
    }
   ],
   "source": [
    "## Memory-model (Cosine Distance)\n",
    "from sklearn.metrics.pairwise import cosine_similarity\n",
    "from sklearn.feature_extraction.text import TfidfVectorizer\n",
    "import sys\n",
    "\n",
    "indices = pd.Series(movies.index, index=movies['original_title']).drop_duplicates()\n",
    "indiceList = reviews.index.tolist() # Indexes are not consistent range from 0 to N. \n",
    "\n",
    "count = TfidfVectorizer()\n",
    "count_matrix = count.fit_transform(reviews['keywords'])\n",
    "\n",
    "\n",
    "cosine_sim = cosine_similarity(count_matrix, count_matrix)\n",
    "\n",
    "idx = indices[\"Toy Story\"]\n",
    "recommendations = list(enumerate((cosine_sim[idx])))\n",
    "\n",
    "recommendations = sorted(recommendations, key=lambda x: x[1], reverse=True)[0:11]\n",
    "# movie_indices = [i[0] for i in score_series]\n",
    "\n",
    "for ind, weight in recommendations:\n",
    "    print(indiceList[ind],weight)"
   ]
  },
  {
   "cell_type": "code",
   "execution_count": 3,
   "metadata": {},
   "outputs": [
    {
     "name": "stdout",
     "output_type": "stream",
     "text": [
      "        userId  movieId  rating\n",
      "0            1       31     2.5\n",
      "1            1     1029     3.0\n",
      "2            1     1061     3.0\n",
      "3            1     1129     2.0\n",
      "4            1     1172     4.0\n",
      "5            1     1263     2.0\n",
      "6            1     1287     2.0\n",
      "7            1     1293     2.0\n",
      "8            1     1339     3.5\n",
      "9            1     1343     2.0\n",
      "10           1     1371     2.5\n",
      "11           1     1405     1.0\n",
      "12           1     1953     4.0\n",
      "13           1     2105     4.0\n",
      "14           1     2150     3.0\n",
      "15           1     2193     2.0\n",
      "16           1     2294     2.0\n",
      "17           1     2455     2.5\n",
      "18           1     2968     1.0\n",
      "19           1     3671     3.0\n",
      "20           2       10     4.0\n",
      "21           2       17     5.0\n",
      "22           2       39     5.0\n",
      "23           2       47     4.0\n",
      "24           2       50     4.0\n",
      "25           2       52     3.0\n",
      "26           2       62     3.0\n",
      "27           2      110     4.0\n",
      "28           2      144     3.0\n",
      "29           2      150     5.0\n",
      "...        ...      ...     ...\n",
      "99974      671     4034     4.5\n",
      "99975      671     4306     5.0\n",
      "99976      671     4308     3.5\n",
      "99977      671     4880     4.0\n",
      "99978      671     4886     5.0\n",
      "99979      671     4896     5.0\n",
      "99980      671     4963     4.5\n",
      "99981      671     4973     4.5\n",
      "99982      671     4993     5.0\n",
      "99983      671     4995     4.0\n",
      "99984      671     5010     2.0\n",
      "99985      671     5218     2.0\n",
      "99986      671     5299     3.0\n",
      "99987      671     5349     4.0\n",
      "99988      671     5377     4.0\n",
      "99989      671     5445     4.5\n",
      "99990      671     5464     3.0\n",
      "99991      671     5669     4.0\n",
      "99992      671     5816     4.0\n",
      "99993      671     5902     3.5\n",
      "99994      671     5952     5.0\n",
      "99995      671     5989     4.0\n",
      "99996      671     5991     4.5\n",
      "99997      671     5995     4.0\n",
      "99998      671     6212     2.5\n",
      "99999      671     6268     2.5\n",
      "100000     671     6269     4.0\n",
      "100001     671     6365     4.0\n",
      "100002     671     6385     2.5\n",
      "100003     671     6565     3.5\n",
      "\n",
      "[100004 rows x 3 columns]\n"
     ]
    },
    {
     "ename": "SystemExit",
     "evalue": "",
     "traceback": [
      "An exception has occurred, use %tb to see the full traceback.\n",
      "\u001b[0;31mSystemExit\u001b[0m\n"
     ],
     "output_type": "error"
    },
    {
     "name": "stderr",
     "output_type": "stream",
     "text": [
      "/Users/arayi/anaconda3/lib/python3.6/site-packages/IPython/core/interactiveshell.py:2971: UserWarning: To exit: use 'exit', 'quit', or Ctrl-D.\n",
      "  warn(\"To exit: use 'exit', 'quit', or Ctrl-D.\", stacklevel=1)\n"
     ]
    }
   ],
   "source": [
    "from surprise import SVD, evaluate, Dataset, Reader\n",
    "from surprise.model_selection import cross_validate\n",
    "from surprise import NMF\n",
    "import pandas as pd\n",
    "\n",
    "import sys\n",
    "\n",
    "ratings = pd.read_csv('ratings_small.csv', low_memory=False)\n",
    "ratings = ratings.drop(['timestamp'],axis=1)\n",
    "print(ratings)\n",
    "sys.exit()\n",
    "reader = Reader(rating_scale=(0.5,5.0))\n",
    "\n",
    "ratings = Dataset.load_from_df(ratings, reader)\n",
    "ratings.split(n_folds=5)\n",
    "\n",
    "# svd\n",
    "svd = SVD()\n",
    "nmf = NMF()\n",
    "# evaluate(svd, ratings, measures=['RMSE'])\n",
    "cross_validate(nmf, ratings, measures=['RMSE', 'MAE'], cv=5, verbose=True)\n",
    "\n"
   ]
  }
 ],
 "metadata": {
  "kernelspec": {
   "display_name": "Python 3",
   "language": "python",
   "name": "python3"
  },
  "language_info": {
   "codemirror_mode": {
    "name": "ipython",
    "version": 3
   },
   "file_extension": ".py",
   "mimetype": "text/x-python",
   "name": "python",
   "nbconvert_exporter": "python",
   "pygments_lexer": "ipython3",
   "version": "3.6.5"
  }
 },
 "nbformat": 4,
 "nbformat_minor": 2
}
