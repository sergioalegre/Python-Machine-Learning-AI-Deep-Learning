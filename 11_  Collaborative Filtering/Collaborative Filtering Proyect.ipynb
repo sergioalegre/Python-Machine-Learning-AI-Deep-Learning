{
 "cells": [
  {
   "cell_type": "code",
   "execution_count": 1,
   "metadata": {},
   "outputs": [
    {
     "name": "stdout",
     "output_type": "stream",
     "text": [
      "0        [{'id': 16, 'name': 'Animation'}, {'id': 35, '...\n",
      "5        [{'id': 28, 'name': 'Action'}, {'id': 80, 'nam...\n",
      "15       [{'id': 18, 'name': 'Drama'}, {'id': 80, 'name...\n",
      "27       [{'id': 18, 'name': 'Drama'}, {'id': 10749, 'n...\n",
      "28       [{'id': 14, 'name': 'Fantasy'}, {'id': 878, 'n...\n",
      "31       [{'id': 878, 'name': 'Science Fiction'}, {'id'...\n",
      "35                           [{'id': 18, 'name': 'Drama'}]\n",
      "46       [{'id': 80, 'name': 'Crime'}, {'id': 9648, 'na...\n",
      "49       [{'id': 18, 'name': 'Drama'}, {'id': 80, 'name...\n",
      "52       [{'id': 18, 'name': 'Drama'}, {'id': 10769, 'n...\n",
      "57       [{'id': 35, 'name': 'Comedy'}, {'id': 18, 'nam...\n",
      "76                     [{'id': 99, 'name': 'Documentary'}]\n",
      "79       [{'id': 10751, 'name': 'Family'}, {'id': 18, '...\n",
      "94                          [{'id': 35, 'name': 'Comedy'}]\n",
      "95                           [{'id': 18, 'name': 'Drama'}]\n",
      "103      [{'id': 18, 'name': 'Drama'}, {'id': 10749, 'n...\n",
      "108      [{'id': 28, 'name': 'Action'}, {'id': 18, 'nam...\n",
      "109      [{'id': 80, 'name': 'Crime'}, {'id': 18, 'name...\n",
      "112                          [{'id': 18, 'name': 'Drama'}]\n",
      "114      [{'id': 99, 'name': 'Documentary'}, {'id': 18,...\n",
      "121      [{'id': 18, 'name': 'Drama'}, {'id': 35, 'name...\n",
      "147                          [{'id': 18, 'name': 'Drama'}]\n",
      "151      [{'id': 18, 'name': 'Drama'}, {'id': 10749, 'n...\n",
      "159                    [{'id': 99, 'name': 'Documentary'}]\n",
      "186      [{'id': 14, 'name': 'Fantasy'}, {'id': 35, 'na...\n",
      "196      [{'id': 18, 'name': 'Drama'}, {'id': 10749, 'n...\n",
      "211      [{'id': 18, 'name': 'Drama'}, {'id': 10752, 'n...\n",
      "212      [{'id': 18, 'name': 'Drama'}, {'id': 10749, 'n...\n",
      "219                         [{'id': 35, 'name': 'Comedy'}]\n",
      "228      [{'id': 35, 'name': 'Comedy'}, {'id': 18, 'nam...\n",
      "                               ...                        \n",
      "45248                       [{'id': 28, 'name': 'Action'}]\n",
      "45249    [{'id': 18, 'name': 'Drama'}, {'id': 10769, 'n...\n",
      "45251                       [{'id': 35, 'name': 'Comedy'}]\n",
      "45256                  [{'id': 99, 'name': 'Documentary'}]\n",
      "45258    [{'id': 10770, 'name': 'TV Movie'}, {'id': 107...\n",
      "45269                       [{'id': 35, 'name': 'Comedy'}]\n",
      "45270                    [{'id': 16, 'name': 'Animation'}]\n",
      "45276    [{'id': 27, 'name': 'Horror'}, {'id': 53, 'nam...\n",
      "45280    [{'id': 35, 'name': 'Comedy'}, {'id': 99, 'nam...\n",
      "45283                        [{'id': 18, 'name': 'Drama'}]\n",
      "45288    [{'id': 878, 'name': 'Science Fiction'}, {'id'...\n",
      "45294                        [{'id': 18, 'name': 'Drama'}]\n",
      "45298                       [{'id': 35, 'name': 'Comedy'}]\n",
      "45304    [{'id': 10402, 'name': 'Music'}, {'id': 35, 'n...\n",
      "45317                                                   []\n",
      "45320    [{'id': 10749, 'name': 'Romance'}, {'id': 18, ...\n",
      "45323    [{'id': 18, 'name': 'Drama'}, {'id': 35, 'name...\n",
      "45326                        [{'id': 18, 'name': 'Drama'}]\n",
      "45330                  [{'id': 99, 'name': 'Documentary'}]\n",
      "45332    [{'id': 35, 'name': 'Comedy'}, {'id': 18, 'nam...\n",
      "45336                        [{'id': 18, 'name': 'Drama'}]\n",
      "45351                  [{'id': 99, 'name': 'Documentary'}]\n",
      "45362                                                   []\n",
      "45371                    [{'id': 16, 'name': 'Animation'}]\n",
      "45378    [{'id': 99, 'name': 'Documentary'}, {'id': 107...\n",
      "45398    [{'id': 10749, 'name': 'Romance'}, {'id': 35, ...\n",
      "45418                        [{'id': 18, 'name': 'Drama'}]\n",
      "45437    [{'id': 10751, 'name': 'Family'}, {'id': 16, '...\n",
      "45443    [{'id': 35, 'name': 'Comedy'}, {'id': 14, 'nam...\n",
      "45462                        [{'id': 18, 'name': 'Drama'}]\n",
      "Name: genres, Length: 6028, dtype: object\n"
     ]
    }
   ],
   "source": [
    "#Basado en: https://www.eduonix.com/dashboard/complete-guide-to-machine-learning-using-python\n",
    "import pandas as pd\n",
    "from sklearn.metrics.pairwise import cosine_similarity\n",
    "import matplotlib.pyplot as plt\n",
    "import sys\n",
    "import numpy as np\n",
    "\n",
    "# conda install -c conda-forge rake_nltk\n",
    "# conda install -c conda-forge scikit-surprise\n",
    "\n",
    "movies = pd.read_csv('movies_metadata.csv', low_memory=False)\n",
    "\n",
    "# print(movies[\"vote_average\"].value_counts())\n",
    "\n",
    "m_count = movies['vote_average'].quantile(0.85)\n",
    "movies = movies[movies['vote_average'] > m_count]\n",
    "movies = movies[movies['genres'].notnull()]\n",
    "print(movies[\"genres\"])"
   ]
  },
  {
   "cell_type": "code",
   "execution_count": 4,
   "metadata": {},
   "outputs": [],
   "source": [
    "import ast\n",
    "\n",
    "movies[\"genre_tags\"] = \"\"\n",
    "\n",
    "for index, row in movies.iterrows():\n",
    "    genreTags = ast.literal_eval(row[\"genres\"])\n",
    "\n",
    "    genreTags = [tag['name'] for tag in genreTags]\n",
    "\n",
    "    movies.loc[index,\"genre_tags\"] = \" \".join(genreTags)\n",
    "    \n",
    "reviews = movies[[\"original_title\",\"genre_tags\"]]\n",
    "titleInd = {i: movies.loc[i][\"original_title\"] for i in movies.index}\n",
    "\n",
    "reviews = reviews.set_index('original_title')"
   ]
  },
  {
   "cell_type": "code",
   "execution_count": 5,
   "metadata": {},
   "outputs": [
    {
     "name": "stdout",
     "output_type": "stream",
     "text": [
      "Twelve Monkeys 0.0\n",
      "Gattaca 0.359185698634441\n",
      "パプリカ 0.4606763667307808\n",
      "The Butterfly Effect 0.5358065235598273\n",
      "Predestination 0.5358065235598273\n",
      "What Happened to Monday 0.5358065235598273\n",
      "Say Nothing 0.5431234579073518\n",
      "Inception 0.5630907637488047\n",
      "Blade Runner 0.5801832463821154\n",
      "Сталкер 0.5801832463821154\n",
      "The Day the Earth Stood Still 0.5801832463821154\n"
     ]
    }
   ],
   "source": [
    "## Memory-model (Euc Distance)\n",
    "from sklearn.metrics.pairwise import euclidean_distances\n",
    "from sklearn.feature_extraction.text import TfidfVectorizer\n",
    "import sys\n",
    "\n",
    "indices = pd.Series(movies.index, index=movies['original_title']).drop_duplicates()\n",
    "indiceList = reviews.index.tolist() # Indexes are not consistent range from 0 to N. \n",
    "\n",
    "count = TfidfVectorizer()\n",
    "count_matrix = count.fit_transform(reviews['genre_tags'])\n",
    "\n",
    "cosine_sim = euclidean_distances(count_matrix, count_matrix)\n",
    "\n",
    "idx = indices[\"Heat\"]\n",
    "recommendations = list(enumerate((cosine_sim[idx])))\n",
    "\n",
    "recommendations = sorted(recommendations, key=lambda x: x[1])[0:11]\n",
    "\n",
    "for ind, weight in recommendations:\n",
    "    print(indiceList[ind],weight)"
   ]
  }
 ],
 "metadata": {
  "kernelspec": {
   "display_name": "Python 3",
   "language": "python",
   "name": "python3"
  },
  "language_info": {
   "codemirror_mode": {
    "name": "ipython",
    "version": 3
   },
   "file_extension": ".py",
   "mimetype": "text/x-python",
   "name": "python",
   "nbconvert_exporter": "python",
   "pygments_lexer": "ipython3",
   "version": "3.6.5"
  }
 },
 "nbformat": 4,
 "nbformat_minor": 2
}
