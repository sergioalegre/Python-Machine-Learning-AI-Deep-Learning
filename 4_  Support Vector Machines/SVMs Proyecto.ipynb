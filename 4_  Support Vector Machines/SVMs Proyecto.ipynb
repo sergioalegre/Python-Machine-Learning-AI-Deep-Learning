{
 "cells": [
  {
   "cell_type": "code",
   "execution_count": null,
   "metadata": {},
   "outputs": [
    {
     "data": {
      "text/plain": [
       "<Figure size 640x480 with 1 Axes>"
      ]
     },
     "metadata": {},
     "output_type": "display_data"
    }
   ],
   "source": [
    "#Basado en: https://www.eduonix.com/dashboard/complete-guide-to-machine-learning-using-python\n",
    "from sklearn import svm\n",
    "from sklearn import datasets\n",
    "from sklearn.model_selection import train_test_split\n",
    "import matplotlib.pyplot as plt\n",
    "\n",
    "wine = datasets.load_wine()\n",
    "X = wine.data[:,:2]\n",
    "y = wine.target\n",
    "\n",
    "result = []\n",
    "\n",
    "svc = svm.SVC(kernel='poly', gamma='auto', random_state=7, shrinking=True) # 'linear’, ‘poly’, ‘rbf’, ‘sigmoid’, ‘precomputed’\n",
    "for epoch in range(0,30):\n",
    "    X_train, X_test, y_train, y_test = train_test_split(X, y, test_size=0.2) \n",
    "    svc.fit(X_train,y_train)\n",
    "    result.append(svc.score(X_test, y_test))\n",
    "    \n",
    "plt.subplot(1, 1, 1)\n",
    "plt.plot(result)\n",
    "plt.show()"
   ]
  }
 ],
 "metadata": {
  "kernelspec": {
   "display_name": "Python 3",
   "language": "python",
   "name": "python3"
  },
  "language_info": {
   "codemirror_mode": {
    "name": "ipython",
    "version": 3
   },
   "file_extension": ".py",
   "mimetype": "text/x-python",
   "name": "python",
   "nbconvert_exporter": "python",
   "pygments_lexer": "ipython3",
   "version": "3.6.5"
  }
 },
 "nbformat": 4,
 "nbformat_minor": 2
}
