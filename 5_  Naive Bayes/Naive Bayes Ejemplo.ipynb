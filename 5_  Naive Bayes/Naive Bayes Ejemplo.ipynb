{
 "cells": [
  {
   "cell_type": "code",
   "execution_count": null,
   "metadata": {},
   "outputs": [
    {
     "name": "stdout",
     "output_type": "stream",
     "text": [
      "  (0, 20283)\t0.06063390625908324\n",
      "  (0, 9274)\t0.06063390625908324\n",
      "  (0, 34354)\t0.06063390625908324\n",
      "  (0, 6418)\t0.06063390625908324\n",
      "  (0, 20624)\t0.06063390625908324\n",
      "  (0, 25202)\t0.06063390625908324\n",
      "  (0, 7204)\t0.12126781251816648\n",
      "  (0, 10637)\t0.06063390625908324\n",
      "  (0, 34701)\t0.06063390625908324\n",
      "  (0, 20592)\t0.06063390625908324\n",
      "  (0, 29160)\t0.06063390625908324\n",
      "  (0, 36367)\t0.06063390625908324\n",
      "  (0, 23912)\t0.06063390625908324\n",
      "  (0, 14907)\t0.06063390625908324\n",
      "  (0, 14734)\t0.06063390625908324\n",
      "  (0, 6845)\t0.06063390625908324\n",
      "  (0, 28507)\t0.06063390625908324\n",
      "  (0, 36545)\t0.06063390625908324\n",
      "  (0, 19849)\t0.06063390625908324\n",
      "  (0, 6111)\t0.06063390625908324\n",
      "  (0, 7844)\t0.06063390625908324\n",
      "  (0, 21167)\t0.06063390625908324\n",
      "  (0, 36548)\t0.06063390625908324\n",
      "  (0, 8029)\t0.06063390625908324\n",
      "  (0, 37877)\t0.06063390625908324\n",
      "  :\t:\n",
      "  (2372, 26577)\t0.048621663832631515\n",
      "  (2372, 38132)\t0.048621663832631515\n",
      "  (2372, 23639)\t0.09724332766526303\n",
      "  (2372, 36291)\t0.048621663832631515\n",
      "  (2372, 8029)\t0.048621663832631515\n",
      "  (2372, 34796)\t0.09724332766526303\n",
      "  (2372, 27304)\t0.048621663832631515\n",
      "  (2372, 26126)\t0.14586499149789456\n",
      "  (2372, 34923)\t0.14586499149789456\n",
      "  (2372, 6641)\t0.09724332766526303\n",
      "  (2372, 34882)\t0.048621663832631515\n",
      "  (2372, 19428)\t0.2917299829957891\n",
      "  (2372, 38475)\t0.14586499149789456\n",
      "  (2372, 16594)\t0.048621663832631515\n",
      "  (2372, 9613)\t0.048621663832631515\n",
      "  (2372, 34802)\t0.2431083191631576\n",
      "  (2372, 19702)\t0.19448665533052606\n",
      "  (2372, 34948)\t0.048621663832631515\n",
      "  (2372, 22467)\t0.048621663832631515\n",
      "  (2372, 26440)\t0.048621663832631515\n",
      "  (2372, 35157)\t0.3403516468284206\n",
      "  (2372, 6839)\t0.09724332766526303\n",
      "  (2372, 20559)\t0.3403516468284206\n",
      "  (2372, 33688)\t0.048621663832631515\n",
      "  (2372, 16874)\t0.048621663832631515\n"
     ]
    }
   ],
   "source": [
    "#Basado en: https://www.eduonix.com/dashboard/complete-guide-to-machine-learning-using-python\n",
    "from sklearn.datasets import fetch_20newsgroups\n",
    "from sklearn.feature_extraction.text import CountVectorizer\n",
    "from sklearn.feature_extraction.text import TfidfTransformer\n",
    "import numpy as np\n",
    "\n",
    "count_vect = CountVectorizer()\n",
    "\n",
    "cats = ['sci.crypt','sci.electronics', 'sci.med', 'sci.space']\n",
    "twenty_train = fetch_20newsgroups(subset='train',categories=cats, shuffle=True)\n",
    "\n",
    "X_train_counts = count_vect.fit_transform(twenty_train.data)\n",
    "\n",
    "tf_transformer = TfidfTransformer(use_idf=False).fit(X_train_counts)\n",
    "X_train_tfidf = tf_transformer.transform(X_train_counts)\n",
    "print(X_train_tfidf)\n"
   ]
  },
  {
   "cell_type": "code",
   "execution_count": 19,
   "metadata": {},
   "outputs": [
    {
     "name": "stdout",
     "output_type": "stream",
     "text": [
      "array([13, 14]) => sci.med\n",
      "array([13, 14]) => sci.space\n"
     ]
    }
   ],
   "source": [
    "from sklearn.naive_bayes import MultinomialNB\n",
    "from sklearn.datasets import fetch_20newsgroups\n",
    "from sklearn.feature_extraction.text import CountVectorizer\n",
    "from sklearn.feature_extraction.text import TfidfTransformer\n",
    "import numpy as np\n",
    "\n",
    "count_vect = CountVectorizer()\n",
    "\n",
    "cats = ['sci.crypt','sci.electronics', 'sci.med', 'sci.space']\n",
    "twenty_train = fetch_20newsgroups(subset='train', shuffle=True)\n",
    "twenty_test = fetch_20newsgroups(subset='test', shuffle=True)\n",
    "\n",
    "X_train_counts = count_vect.fit_transform(twenty_train.data) # X_train_counts.shape\n",
    "\n",
    "tf_transformer = TfidfTransformer(use_idf=False).fit(X_train_counts)\n",
    "X_train_tfidf = tf_transformer.transform(X_train_counts)\n",
    "\n",
    "model = MultinomialNB()\n",
    "model.fit(X_train_tfidf, twenty_train.target)\n",
    "\n",
    "docs_new = ['Medicine is neat', 'Pluto is a really cool planet']\n",
    "X_new_counts = count_vect.transform(docs_new)\n",
    "X_new_tfidf = tf_transformer.transform(X_new_counts)\n",
    "predicted = model.predict(X_new_tfidf)\n",
    "\n",
    "for doc, category in zip(twenty_test, predicted):\n",
    "    print('%r => %s' % (predicted, twenty_test.target_names[category]))\n"
   ]
  }
 ],
 "metadata": {
  "kernelspec": {
   "display_name": "Python 3",
   "language": "python",
   "name": "python3"
  },
  "language_info": {
   "codemirror_mode": {
    "name": "ipython",
    "version": 3
   },
   "file_extension": ".py",
   "mimetype": "text/x-python",
   "name": "python",
   "nbconvert_exporter": "python",
   "pygments_lexer": "ipython3",
   "version": "3.6.5"
  }
 },
 "nbformat": 4,
 "nbformat_minor": 2
}
