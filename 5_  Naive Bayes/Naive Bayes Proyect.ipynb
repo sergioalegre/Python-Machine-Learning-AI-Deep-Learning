{
 "cells": [
  {
   "cell_type": "code",
   "execution_count": 46,
   "metadata": {},
   "outputs": [
    {
     "name": "stdout",
     "output_type": "stream",
     "text": [
      "0.6820233669676049\n"
     ]
    }
   ],
   "source": [
    "#Basado en: https://www.eduonix.com/dashboard/complete-guide-to-machine-learning-using-python\n",
    "from sklearn.naive_bayes import MultinomialNB\n",
    "from sklearn.datasets import fetch_20newsgroups\n",
    "from sklearn.feature_extraction.text import CountVectorizer\n",
    "from sklearn.feature_extraction.text import TfidfTransformer\n",
    "import sys\n",
    "\n",
    "count_vect = CountVectorizer()\n",
    "train_names = {'talk':0, 'alt':1, 'sci':2, 'comp':3, 'rec':4, 'misc': 5, 'soc': 6}\n",
    "\n",
    "twenty_train = fetch_20newsgroups(subset='train')\n",
    "train_labels = {lab.split(\".\")[0]: [] for lab in twenty_train.target_names}\n",
    "\n",
    "for ind, lab in enumerate(twenty_train.target_names):\n",
    "    label = lab.split(\".\")[0]\n",
    "    if label not in train_labels:\n",
    "        train_labels[label] = []\n",
    "    train_labels[label].append(int(ind))\n",
    "\n",
    "twenty_target = []\n",
    "for t in twenty_train.target:\n",
    "    for lab in train_labels:\n",
    "        if t in train_labels[lab]:\n",
    "            twenty_target.append(train_names[lab])\n",
    "\n",
    "            \n",
    "twenty_test = fetch_20newsgroups(subset='test')\n",
    "test_labels = {lab.split(\".\")[0]: [] for lab in twenty_test.target_names}\n",
    "test_names = {'talk':0, 'alt':1, 'sci':2, 'comp':3, 'rec':4, 'misc': 5, 'soc': 6}\n",
    "\n",
    "for ind, lab in enumerate(twenty_test.target_names):\n",
    "    label = lab.split(\".\")[0]\n",
    "    if label not in test_labels:\n",
    "        test_labels[label] = []\n",
    "    test_labels[label].append(int(ind))\n",
    "\n",
    "test_target = []\n",
    "for t in twenty_test.target:\n",
    "    for lab in test_labels:\n",
    "        if t in test_labels[lab]:\n",
    "            test_target.append(test_names[lab])\n",
    "\n",
    "\n",
    "X_train_counts = count_vect.fit_transform(twenty_train.data) # X_train_counts.shape\n",
    "\n",
    "tf_transformer = TfidfTransformer(use_idf=False).fit(X_train_counts)\n",
    "X_train_tfidf = tf_transformer.transform(X_train_counts)\n",
    "\n",
    "model = MultinomialNB()\n",
    "model.fit(X_train_tfidf, twenty_target)\n",
    "\n",
    "X_new_counts = count_vect.transform(twenty_test.data)\n",
    "X_new_tfidf = tf_transformer.transform(X_new_counts)\n",
    "score = model.score(X_new_tfidf, test_target)\n",
    "print(score)\n"
   ]
  }
 ],
 "metadata": {
  "kernelspec": {
   "display_name": "Python 3",
   "language": "python",
   "name": "python3"
  },
  "language_info": {
   "codemirror_mode": {
    "name": "ipython",
    "version": 3
   },
   "file_extension": ".py",
   "mimetype": "text/x-python",
   "name": "python",
   "nbconvert_exporter": "python",
   "pygments_lexer": "ipython3",
   "version": "3.6.5"
  }
 },
 "nbformat": 4,
 "nbformat_minor": 2
}
