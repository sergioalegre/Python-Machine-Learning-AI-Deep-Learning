{
 "cells": [
  {
   "cell_type": "code",
   "execution_count": 5,
   "metadata": {},
   "outputs": [
    {
     "name": "stdout",
     "output_type": "stream",
     "text": [
      "{1: 0.9771528998242531}\n",
      "Feature ranking:\n",
      "1. feature 23 - mean radius (0.174293)\n",
      "2. feature 28 - mean texture (0.166363)\n",
      "3. feature 8 - mean perimeter (0.158564)\n",
      "4. feature 7 - mean area (0.155893)\n",
      "5. feature 14 - mean smoothness (0.120291)\n",
      "6. feature 21 - mean compactness (0.037564)\n",
      "7. feature 3 - mean concavity (0.034024)\n",
      "8. feature 2 - mean concave points (0.022261)\n",
      "9. feature 27 - mean symmetry (0.016702)\n",
      "10. feature 25 - mean fractal dimension (0.016638)\n",
      "11. feature 13 - radius error (0.011122)\n",
      "12. feature 4 - texture error (0.010325)\n",
      "13. feature 22 - perimeter error (0.009570)\n",
      "14. feature 20 - area error (0.009068)\n",
      "15. feature 29 - smoothness error (0.008479)\n",
      "16. feature 5 - compactness error (0.007694)\n",
      "17. feature 17 - concavity error (0.006456)\n",
      "18. feature 30 - concave points error (0.006219)\n",
      "19. feature 1 - symmetry error (0.006114)\n",
      "20. feature 11 - fractal dimension error (0.003432)\n",
      "21. feature 26 - worst radius (0.003206)\n",
      "22. feature 19 - worst texture (0.003136)\n",
      "23. feature 9 - worst perimeter (0.003081)\n",
      "24. feature 24 - worst area (0.002982)\n",
      "25. feature 12 - worst smoothness (0.002026)\n",
      "26. feature 10 - worst compactness (0.001953)\n",
      "27. feature 6 - worst concavity (0.001716)\n",
      "28. feature 18 - worst concave points (0.000771)\n",
      "29. feature 15 - worst symmetry (0.000057)\n",
      "30. feature 16 - worst fractal dimension (0.000000)\n"
     ]
    },
    {
     "data": {
      "image/png": "[encoded data removed]",
      "text/plain": [
       "<Figure size 432x288 with 1 Axes>"
      ]
     },
     "metadata": {},
     "output_type": "display_data"
    }
   ],
   "source": [
    "#Basado en: https://www.eduonix.com/dashboard/complete-guide-to-machine-learning-using-python\n",
    "from sklearn import datasets\n",
    "from sklearn.ensemble import RandomForestClassifier\n",
    "import numpy as np\n",
    "import matplotlib.pyplot as plt\n",
    "import sys\n",
    "\n",
    "model = RandomForestClassifier(n_estimators=5,random_state=0, n_jobs= 10)\n",
    "cancer = datasets.load_breast_cancer()\n",
    "\n",
    "\n",
    "# Train\n",
    "model.fit(cancer.data, cancer.target)\n",
    "\n",
    "# Extract single tree\n",
    "\n",
    "bestScore={0:0}\n",
    "\n",
    "for forest, tree in enumerate(model.estimators_):\n",
    "    score = tree.score(cancer.data,cancer.target)\n",
    "    if score > list(bestScore.values())[0]:\n",
    "        bestScore={forest:score}\n",
    "\n",
    "print(bestScore)\n",
    "estIndex = list(bestScore.keys())[0]\n",
    "\n",
    "treeSTD = np.std([tree.feature_importances_ for tree in model.estimators_], axis=0)\n",
    "importances = model.feature_importances_\n",
    "indices = np.argsort(importances)[::-1]\n",
    "totalFeatures = len(cancer.data[0])\n",
    "\n",
    "feature_labels = cancer.feature_names\n",
    "\n",
    "# Print the feature ranking\n",
    "print(\"Feature ranking:\")\n",
    "for f in range(totalFeatures):\n",
    "    print(\"%d. feature %d - %s (%f)\" % (f + 1, indices[f]+1, feature_labels[f],importances[indices[f]]))\n",
    "\n",
    "# Plot the feature importances of the forest\n",
    "plt.figure()\n",
    "plt.title(\"Feature importances\")\n",
    "plt.bar(range(totalFeatures), importances[indices],\n",
    "       color=\"r\",yerr=treeSTD[indices], align=\"center\")\n",
    "plt.xticks(range(totalFeatures), indices)\n",
    "plt.show()\n"
   ]
  }
 ],
 "metadata": {
  "kernelspec": {
   "display_name": "Python 3",
   "language": "python",
   "name": "python3"
  },
  "language_info": {
   "codemirror_mode": {
    "name": "ipython",
    "version": 3
   },
   "file_extension": ".py",
   "mimetype": "text/x-python",
   "name": "python",
   "nbconvert_exporter": "python",
   "pygments_lexer": "ipython3",
   "version": "3.6.5"
  }
 },
 "nbformat": 4,
 "nbformat_minor": 2
}
