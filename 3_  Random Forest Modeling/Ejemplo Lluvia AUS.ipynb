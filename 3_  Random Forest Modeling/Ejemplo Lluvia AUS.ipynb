{
 "cells": [
  {
   "cell_type": "code",
   "execution_count": 87,
   "metadata": {},
   "outputs": [
    {
     "name": "stdout",
     "output_type": "stream",
     "text": [
      "10 [0.7997164126196384, 0.7747252747252747, 0.8123006026231833, 0.7800425381070543, 0.7990074441687345, 0.8021978021978022, 0.814427507975895, 0.8773484579936193, 0.8303792981212336, 0.8459766040411202]\n"
     ]
    },
    {
     "data": {
      "image/png": "[encoded data removed]",
      "text/plain": [
       "<Figure size 432x288 with 1 Axes>"
      ]
     },
     "metadata": {},
     "output_type": "display_data"
    }
   ],
   "source": [
    "import pandas as pd\n",
    "from sklearn.ensemble import RandomForestClassifier\n",
    "from sklearn.model_selection import KFold, cross_val_score\n",
    "import numpy as np\n",
    "from matplotlib import pyplot as plt\n",
    "import warnings\n",
    "\n",
    "warnings.filterwarnings(\"ignore\")\n",
    "\n",
    "weather = pd.read_csv(\"weatherAUS.csv\")\n",
    "\n",
    "weather = weather.replace(\"NA\", np.nan)\n",
    "weather = weather.dropna()\n",
    "\n",
    "weather['RainToday'] = pd.factorize(weather.RainToday)[0] + 1\n",
    "weather['RainTomorrow'] = pd.factorize(weather.RainTomorrow)[0] + 1\n",
    "weather['WindGustDir'] = pd.factorize(weather.WindGustDir)[0] + 1\n",
    "weather['WindDir9am'] = pd.factorize(weather.WindDir9am)[0] + 1\n",
    "weather['WindDir3pm'] = pd.factorize(weather.WindDir9am)[0] + 1\n",
    "weather['Location'] = pd.factorize(weather.Location)[0] + 1\n",
    "\n",
    "featureList = [\"Location\",\"MinTemp\",\"MaxTemp\",\"WindGustSpeed\",\"Humidity9am\",\"Humidity3pm\",\"Pressure9am\",\"Pressure3pm\",\"Temp9am\",\"Temp3pm\"]\n",
    "\n",
    "rf = RandomForestClassifier(n_estimators=5)\n",
    "\n",
    "y = np.array(weather[['RainToday']])\n",
    "x = np.array(weather[featureList])\n",
    "\n",
    "\n",
    "k_fold = KFold(n_splits=10)\n",
    "k_fold.get_n_splits(x)\n",
    "\n",
    "\n",
    "results = []\n",
    "for train_index, test_index in k_fold.split(x):\n",
    "    x_train, x_test = x[train_index], x[test_index]\n",
    "    y_train, y_test = y[train_index], y[test_index]\n",
    "    rf.fit(x_train,y_train)\n",
    "    results.append(rf.score(x_test,y_test))\n",
    "print(epoch, results)\n",
    "\n",
    "plt.subplot()\n",
    "plt.plot(results,'r-')\n",
    "plt.show()"
   ]
  }
 ],
 "metadata": {
  "kernelspec": {
   "display_name": "Python 3",
   "language": "python",
   "name": "python3"
  },
  "language_info": {
   "codemirror_mode": {
    "name": "ipython",
    "version": 3
   },
   "file_extension": ".py",
   "mimetype": "text/x-python",
   "name": "python",
   "nbconvert_exporter": "python",
   "pygments_lexer": "ipython3",
   "version": "3.7.3"
  }
 },
 "nbformat": 4,
 "nbformat_minor": 2
}
