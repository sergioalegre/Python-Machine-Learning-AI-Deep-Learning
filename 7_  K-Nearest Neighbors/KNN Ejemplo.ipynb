{
 "cells": [
  {
   "cell_type": "code",
   "execution_count": 9,
   "metadata": {},
   "outputs": [
    {
     "name": "stdout",
     "output_type": "stream",
     "text": [
      "[0.6        0.7        0.93333333 0.8        0.63333333]\n",
      "0.7333333333333333\n"
     ]
    },
    {
     "data": {
      "image/png": "[encoded data removed]",
      "text/plain": [
       "<Figure size 432x288 with 1 Axes>"
      ]
     },
     "metadata": {},
     "output_type": "display_data"
    }
   ],
   "source": [
    "#Basado en: https://www.eduonix.com/dashboard/complete-guide-to-machine-learning-using-python\n",
    "from sklearn.neighbors import KNeighborsClassifier\n",
    "from sklearn.model_selection import train_test_split, KFold, cross_val_score\n",
    "from sklearn import datasets\n",
    "import numpy as np\n",
    "import matplotlib.pyplot as plt\n",
    "\n",
    "iris = datasets.load_iris()\n",
    "X = iris.data[:, :2]\n",
    "y = iris.target\n",
    "\n",
    "X_train, X_test, y_train, y_test = train_test_split(X, y, test_size=0.3,random_state=0) \n",
    "\n",
    "knn = KNeighborsClassifier(n_neighbors=3, algorithm='auto', p=1)\n",
    "k_fold = KFold(n_splits=5, shuffle=True)\n",
    "\n",
    "results = cross_val_score(knn, X, y, cv=k_fold)\n",
    "print(results)\n",
    "\n",
    "knn.fit(X_train, y_train)\n",
    "scoreValue = knn.score(X_test, y_test)\n",
    "print(scoreValue)\n",
    "\n",
    "h = .02\n",
    "x_min, x_max = X[:,0].min() - 1, X[:,0].max() + 1\n",
    "y_min, y_max = X[:,1].min() - 1, X[:,1].max() + 1\n",
    "xx, yy = np.meshgrid(np.arange(x_min, x_max, h), np.arange(y_min, y_max, h))\n",
    "Z = knn.predict(np.c_[xx.ravel(), yy.ravel()])\n",
    "Z = Z.reshape(xx.shape)\n",
    "\n",
    "plt.subplot(1, 1, 1)\n",
    "plt.pcolormesh(xx, yy, Z, alpha=0.8)\n",
    "plt.scatter(X[:,0], X[:,1], c=y, cmap=plt.cm.Paired)\n",
    "plt.xlabel('Sepal length')\n",
    "plt.ylabel('Sepal width')\n",
    "plt.show()\n",
    "\n"
   ]
  },
  {
   "cell_type": "code",
   "execution_count": 11,
   "metadata": {},
   "outputs": [
    {
     "name": "stdout",
     "output_type": "stream",
     "text": [
      "Fold: 1, K: 1, RMSE: 1.0302426898551622, RMSE_Scaled: 0.8794316346368262\n",
      "Fold: 1, K: 2, RMSE: 1.0768936809174805, RMSE_Scaled: 1.0069011868103046\n",
      "Fold: 1, K: 3, RMSE: 1.0856334556377674, RMSE_Scaled: 0.9761602782785668\n",
      "Fold: 1, K: 4, RMSE: 1.0388936422945323, RMSE_Scaled: 0.9992809915133981\n",
      "Fold: 1, K: 5, RMSE: 1.1232274925410257, RMSE_Scaled: 0.9958473778647007\n",
      "Fold: 1, K: 6, RMSE: 1.116950212756942, RMSE_Scaled: 0.9873983773308298\n",
      "Fold: 1, K: 7, RMSE: 1.1269626870305798, RMSE_Scaled: 0.9696664690626825\n",
      "Fold: 1, K: 8, RMSE: 1.132651755836718, RMSE_Scaled: 0.9711848433743188\n",
      "Fold: 1, K: 9, RMSE: 1.1098848789151263, RMSE_Scaled: 0.962536515260526\n",
      "Fold: 1, K: 10, RMSE: 1.0852317724799625, RMSE_Scaled: 0.9452385942184123\n",
      "Fold: 2, K: 1, RMSE: 0.6138403701289121, RMSE_Scaled: 0.7159608927867498\n",
      "Fold: 2, K: 2, RMSE: 0.5061126356849827, RMSE_Scaled: 0.6321392251711643\n",
      "Fold: 2, K: 3, RMSE: 0.48009258366370217, RMSE_Scaled: 0.6105916984550496\n",
      "Fold: 2, K: 4, RMSE: 0.41683330001332664, RMSE_Scaled: 0.6307634263335185\n",
      "Fold: 2, K: 5, RMSE: 0.39088617268969755, RMSE_Scaled: 0.5994864468859992\n",
      "Fold: 2, K: 6, RMSE: 0.38945831327342056, RMSE_Scaled: 0.5644860002200625\n",
      "Fold: 2, K: 7, RMSE: 0.3724381882697217, RMSE_Scaled: 0.5537515835882822\n",
      "Fold: 2, K: 8, RMSE: 0.38582298402246595, RMSE_Scaled: 0.5540786270918595\n",
      "Fold: 2, K: 9, RMSE: 0.38903171980231344, RMSE_Scaled: 0.5592477310560661\n",
      "Fold: 2, K: 10, RMSE: 0.4053591000582077, RMSE_Scaled: 0.5701368256830986\n",
      "Fold: 3, K: 1, RMSE: 0.3624913792078372, RMSE_Scaled: 0.5449770637375484\n",
      "Fold: 3, K: 2, RMSE: 0.33466401061363016, RMSE_Scaled: 0.5002999100539595\n",
      "Fold: 3, K: 3, RMSE: 0.32632635334721105, RMSE_Scaled: 0.48087882511548\n",
      "Fold: 3, K: 4, RMSE: 0.3231872522238462, RMSE_Scaled: 0.5073337166008188\n",
      "Fold: 3, K: 5, RMSE: 0.3246783023240081, RMSE_Scaled: 0.491121166312347\n",
      "Fold: 3, K: 6, RMSE: 0.3155330586659837, RMSE_Scaled: 0.4831033935803896\n",
      "Fold: 3, K: 7, RMSE: 0.31345344347205656, RMSE_Scaled: 0.4761923809485714\n",
      "Fold: 3, K: 8, RMSE: 0.31632163220367965, RMSE_Scaled: 0.48481955406109606\n",
      "Fold: 3, K: 9, RMSE: 0.314772110393347, RMSE_Scaled: 0.48134072016492524\n",
      "Fold: 3, K: 10, RMSE: 0.3161139035221323, RMSE_Scaled: 0.4727853635636366\n"
     ]
    }
   ],
   "source": [
    "## 7.4\n",
    "from sklearn.neighbors import KNeighborsRegressor\n",
    "from sklearn.preprocessing import MinMaxScaler\n",
    "from sklearn.metrics import mean_squared_error \n",
    "from sklearn.model_selection import train_test_split, KFold\n",
    "from sklearn import datasets\n",
    "import numpy as np\n",
    "import matplotlib.pyplot as plt\n",
    "\n",
    "iris = datasets.load_iris()\n",
    "X = iris.data[:,2:4]\n",
    "y = iris.data[:,1]\n",
    "\n",
    "scaler = MinMaxScaler(feature_range=(0, 1))\n",
    "\n",
    "x_scaled = scaler.fit_transform(X)\n",
    "\n",
    "kf = KFold(n_splits=3)\n",
    "kf.get_n_splits(x_scaled)\n",
    "\n",
    "run = 1\n",
    "# x_train, x_test, y_train,  y_test = train_test_split(X, y, test_size = 0.3, random_state = 1)\n",
    "for train_index, test_index in kf.split(x_scaled):\n",
    "    x_train = x_scaled[train_index]\n",
    "    y_train = y[train_index]\n",
    "\n",
    "    x_test = x_scaled[test_index]\n",
    "    y_test = y[test_index]\n",
    "\n",
    "    x_train_scaled = scaler.fit_transform(x_train)\n",
    "    x_test_scaled = scaler.fit_transform(x_test)\n",
    "\n",
    "    for K in range(1,11):\n",
    "\n",
    "        model = KNeighborsRegressor(n_neighbors = K)\n",
    "        model.fit(x_train, y_train)\n",
    "        prediction = model.predict(x_test)\n",
    "        error = np.sqrt(mean_squared_error(y_test,prediction)) # Root MSE\n",
    "\n",
    "        model_scaled = KNeighborsRegressor(n_neighbors = K)\n",
    "        model_scaled.fit(x_train_scaled, y_train)\n",
    "        prediction_scaled = model.predict(x_test_scaled)\n",
    "        error_scaled = np.sqrt(mean_squared_error(y_test,prediction_scaled)) # Root MSE\n",
    "\n",
    "        print(\"Fold: %s, K: %s, RMSE: %s, RMSE_Scaled: %s\" % (run, K, error, error_scaled))\n",
    "    run += 1\n"
   ]
  }
 ],
 "metadata": {
  "kernelspec": {
   "display_name": "Python 3",
   "language": "python",
   "name": "python3"
  },
  "language_info": {
   "codemirror_mode": {
    "name": "ipython",
    "version": 3
   },
   "file_extension": ".py",
   "mimetype": "text/x-python",
   "name": "python",
   "nbconvert_exporter": "python",
   "pygments_lexer": "ipython3",
   "version": "3.6.5"
  }
 },
 "nbformat": 4,
 "nbformat_minor": 2
}
