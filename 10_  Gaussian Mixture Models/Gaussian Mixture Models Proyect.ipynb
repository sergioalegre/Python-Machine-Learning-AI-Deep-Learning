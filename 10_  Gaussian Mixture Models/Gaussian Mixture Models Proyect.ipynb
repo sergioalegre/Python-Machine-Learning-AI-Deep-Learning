{
 "cells": [
  {
   "cell_type": "code",
   "execution_count": 1,
   "metadata": {},
   "outputs": [
    {
     "name": "stdout",
     "output_type": "stream",
     "text": [
      "Initialization 0\n",
      "  Iteration 0\n",
      "  Iteration 10\n",
      "  Iteration 20\n",
      "  Iteration 30\n",
      "  Iteration 40\n",
      "  Iteration 50\n",
      "  Iteration 60\n",
      "  Iteration 70\n",
      "  Iteration 80\n",
      "  Iteration 90\n",
      "Initialization converged: True\n"
     ]
    },
    {
     "data": {
      "text/plain": [
       "<Figure size 640x480 with 2 Axes>"
      ]
     },
     "metadata": {},
     "output_type": "display_data"
    }
   ],
   "source": [
    "#Basado en: https://www.eduonix.com/dashboard/complete-guide-to-machine-learning-using-python\n",
    "from sklearn.datasets.samples_generator import make_blobs\n",
    "import sklearn.mixture as gmm\n",
    "import matplotlib.pyplot as plt\n",
    "from matplotlib.patches import Ellipse\n",
    "import numpy as np\n",
    "\n",
    "X, y_true = make_blobs(n_samples=400, centers=3, random_state=0)\n",
    "\n",
    "model = gmm.BayesianGaussianMixture(n_components=4, verbose=True, warm_start=True, init_params = 'kmeans').fit(X)\n",
    "# print(model)\n",
    "y_predict = model.predict(X)\n",
    "\n",
    "  \n",
    "import matplotlib.pyplot as plt\n",
    "from matplotlib.patches import Ellipse\n",
    "import numpy as np\n",
    "\n",
    "plt.subplot(1,2,1)\n",
    "plt.scatter(X[:,0], X[:,1], c = y_true, s=40, cmap='viridis')\n",
    "plt.axis('equal')\n",
    "\n",
    "plt.subplot(1, 2, 2)\n",
    "ax = plt.gca()\n",
    "\n",
    "ax.scatter(X[:,0], X[:,1], c = y_predict, s=40, cmap='viridis')\n",
    "\n",
    "ax.axis('equal')\n",
    "\n",
    "w_factor = 0.2 / model.weights_.max()\n",
    "\n",
    "for pos, covar, weights in zip(model.means_, model.covariances_, model.weights_):\n",
    "    U, s, vt = np.linalg.svd(covar)\n",
    "    angle = np.degrees(np.arctan2(U[1, 0], U[0, 0]))\n",
    "    width, height = 2 * np.sqrt(s)\n",
    "\n",
    "    # Draw the Ellipse\n",
    "    for center in range(1, 4):\n",
    "        ax.add_patch(Ellipse(pos, center * width, center * height, angle, alpha = weights * w_factor))\n",
    "\n",
    "plt.show()\n"
   ]
  }
 ],
 "metadata": {
  "kernelspec": {
   "display_name": "Python 3",
   "language": "python",
   "name": "python3"
  },
  "language_info": {
   "codemirror_mode": {
    "name": "ipython",
    "version": 3
   },
   "file_extension": ".py",
   "mimetype": "text/x-python",
   "name": "python",
   "nbconvert_exporter": "python",
   "pygments_lexer": "ipython3",
   "version": "3.6.5"
  }
 },
 "nbformat": 4,
 "nbformat_minor": 2
}
